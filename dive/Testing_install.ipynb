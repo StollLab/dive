{
 "cells": [
  {
   "cell_type": "code",
   "execution_count": 1,
   "metadata": {},
   "outputs": [
    {
     "name": "stderr",
     "output_type": "stream",
     "text": [
      "/opt/anaconda3/envs/pymc_old/lib/python3.10/site-packages/tqdm/auto.py:22: TqdmWarning: IProgress not found. Please update jupyter and ipywidgets. See https://ipywidgets.readthedocs.io/en/stable/user_install.html\n",
      "  from .autonotebook import tqdm as notebook_tqdm\n"
     ]
    }
   ],
   "source": [
    "import dive as dive\n",
    "import pymc3 as pm\n",
    "import deerlab as dl\n",
    "import numpy as np\n",
    "%load_ext autoreload\n",
    "%autoreload 2"
   ]
  },
  {
   "cell_type": "code",
   "execution_count": 2,
   "metadata": {},
   "outputs": [],
   "source": [
    "def preprocess(file_name):\n",
    "    (t, idx), V = dl.deerload(file_name)\n",
    "    V = dl.correctphase(V)\n",
    "    V = V[:,V.sum(axis=0) != 0][:,:-1].sum(axis=1)\n",
    "    t = dl.correctzerotime(V, t)\n",
    "    \n",
    "    return V, t"
   ]
  },
  {
   "cell_type": "code",
   "execution_count": 3,
   "metadata": {},
   "outputs": [],
   "source": [
    "t = np.linspace(-0.1,5,300)\n",
    "\n",
    "r = np.linspace(2,15,400)           # distance axis, nm\n",
    "param = [5,0.2,0.4,5.4,0.15,0.6] # parameters for single-Gaussian model\n",
    "P = dl.dd_gauss2(r,param)          # model distance distribution\n",
    "lam = 0.4                       # modulation depth\n",
    "B = dl.bg_hom3d(t,0.2,lam)         # background decay\n",
    "K = dl.dipolarkernel(t,r,mod=lam,bg=B)  # kernel matrix\n",
    "\n",
    "Vexp = K@P + dl.whitegaussnoise(t,0.01,seed=0)\n",
    "def generatedata(Vexp):\n",
    "    return t, Vexp, r, P,K\n",
    "\n",
    "\n",
    "t, Vexp, r, P,K= generatedata(Vexp)\n",
    "\n",
    "t1 = t\n",
    "V1 = Vexp\n",
    "r1 = r\n",
    "P1 = P\n",
    "\n",
    "\n"
   ]
  },
  {
   "cell_type": "code",
   "execution_count": 5,
   "metadata": {},
   "outputs": [
    {
     "name": "stdout",
     "output_type": "stream",
     "text": [
      "Time-domain data:    300 points from -0.1 µs to 5 µs\n",
      "Distance vector:     100 points from 2 nm to 7 nm\n",
      "Model:              gaussian\n",
      "Number of Gaussian: 1\n"
     ]
    },
    {
     "ename": "TypeError",
     "evalue": "No model on context stack.",
     "output_type": "error",
     "traceback": [
      "\u001b[0;31m---------------------------------------------------------------------------\u001b[0m",
      "\u001b[0;31mTypeError\u001b[0m                                 Traceback (most recent call last)",
      "\u001b[1;32m/Users/lukas.z/Desktop/Research/dive/dive/Testing_install.ipynb Cell 4\u001b[0m in \u001b[0;36m<cell line: 11>\u001b[0;34m()\u001b[0m\n\u001b[1;32m      <a href='vscode-notebook-cell:/Users/lukas.z/Desktop/Research/dive/dive/Testing_install.ipynb#ch0000003?line=7'>8</a>\u001b[0m Model \u001b[39m=\u001b[39m dive\u001b[39m.\u001b[39mmodel(t1, V1, pars)\n\u001b[1;32m     <a href='vscode-notebook-cell:/Users/lukas.z/Desktop/Research/dive/dive/Testing_install.ipynb#ch0000003?line=9'>10</a>\u001b[0m \u001b[39m#trace,model =  dive.sample(Model, MCMCparameters,  NUTSpars=NUTSpars,seed=True, seeds=[1,2,3,4])\u001b[39;00m\n\u001b[0;32m---> <a href='vscode-notebook-cell:/Users/lukas.z/Desktop/Research/dive/dive/Testing_install.ipynb#ch0000003?line=10'>11</a>\u001b[0m trace \u001b[39m=\u001b[39m  pm\u001b[39m.\u001b[39;49msample(Model, MCMCparameters,  NUTSpars\u001b[39m=\u001b[39;49mNUTSpars)\n",
      "File \u001b[0;32m/opt/anaconda3/envs/pymc_old/lib/python3.10/site-packages/pymc3/sampling.py:425\u001b[0m, in \u001b[0;36msample\u001b[0;34m(draws, step, init, n_init, start, trace, chain_idx, chains, cores, tune, progressbar, model, random_seed, discard_tuned_samples, compute_convergence_checks, callback, jitter_max_retries, return_inferencedata, idata_kwargs, mp_ctx, pickle_backend, **kwargs)\u001b[0m\n\u001b[1;32m    235\u001b[0m \u001b[39mdef\u001b[39;00m \u001b[39msample\u001b[39m(\n\u001b[1;32m    236\u001b[0m     draws\u001b[39m=\u001b[39m\u001b[39m1000\u001b[39m,\n\u001b[1;32m    237\u001b[0m     step\u001b[39m=\u001b[39m\u001b[39mNone\u001b[39;00m,\n\u001b[0;32m   (...)\u001b[0m\n\u001b[1;32m    258\u001b[0m     \u001b[39m*\u001b[39m\u001b[39m*\u001b[39mkwargs,\n\u001b[1;32m    259\u001b[0m ):\n\u001b[1;32m    260\u001b[0m     \u001b[39mr\u001b[39m\u001b[39m\"\"\"Draw samples from the posterior using the given step methods.\u001b[39;00m\n\u001b[1;32m    261\u001b[0m \n\u001b[1;32m    262\u001b[0m \u001b[39m    Multiple step methods are supported via compound step methods.\u001b[39;00m\n\u001b[0;32m   (...)\u001b[0m\n\u001b[1;32m    423\u001b[0m \u001b[39m        p  0.609  0.047   0.528    0.699\u001b[39;00m\n\u001b[1;32m    424\u001b[0m \u001b[39m    \"\"\"\u001b[39;00m\n\u001b[0;32m--> 425\u001b[0m     model \u001b[39m=\u001b[39m modelcontext(model)\n\u001b[1;32m    426\u001b[0m     start \u001b[39m=\u001b[39m deepcopy(start)\n\u001b[1;32m    427\u001b[0m     \u001b[39mif\u001b[39;00m start \u001b[39mis\u001b[39;00m \u001b[39mNone\u001b[39;00m:\n",
      "File \u001b[0;32m/opt/anaconda3/envs/pymc_old/lib/python3.10/site-packages/pymc3/model.py:402\u001b[0m, in \u001b[0;36mmodelcontext\u001b[0;34m(model)\u001b[0m\n\u001b[1;32m    397\u001b[0m     model \u001b[39m=\u001b[39m Model\u001b[39m.\u001b[39mget_context(error_if_none\u001b[39m=\u001b[39m\u001b[39mFalse\u001b[39;00m)\n\u001b[1;32m    399\u001b[0m     \u001b[39mif\u001b[39;00m model \u001b[39mis\u001b[39;00m \u001b[39mNone\u001b[39;00m:\n\u001b[1;32m    400\u001b[0m         \u001b[39m# TODO: This should be a ValueError, but that breaks\u001b[39;00m\n\u001b[1;32m    401\u001b[0m         \u001b[39m# ArviZ (and others?), so might need a deprecation.\u001b[39;00m\n\u001b[0;32m--> 402\u001b[0m         \u001b[39mraise\u001b[39;00m \u001b[39mTypeError\u001b[39;00m(\u001b[39m\"\u001b[39m\u001b[39mNo model on context stack.\u001b[39m\u001b[39m\"\u001b[39m)\n\u001b[1;32m    403\u001b[0m \u001b[39mreturn\u001b[39;00m model\n",
      "\u001b[0;31mTypeError\u001b[0m: No model on context stack."
     ]
    }
   ],
   "source": [
    "pars = {\"method\": 'gaussian', \"r\": np.linspace(2,7,100), \"nGauss\": 1}\n",
    "\n",
    "MCMCparameters = {\"draws\": 5000,\"tune\": 2000, \"chains\": 4, \"cores\": 4}\n",
    "NUTSpars = {\"target_accept\":0.95}\n",
    "\n",
    "Model = dive.model(t1, V1, pars)\n",
    "\n",
    "#trace,model =  dive.sample(Model, MCMCparameters,  NUTSpars=NUTSpars,seed=True, seeds=[1,2,3,4])\n",
    "trace,model =  pm.sample(Model, MCMCparameters,  NUTSpars=NUTSpars)"
   ]
  },
  {
   "cell_type": "code",
   "execution_count": 10,
   "metadata": {},
   "outputs": [
    {
     "name": "stdout",
     "output_type": "stream",
     "text": [
      "Time-domain data:    300 points from -0.1 µs to 5 µs\n",
      "Distance vector:     100 points from 2 nm to 7 nm\n",
      "Model:              gaussian\n",
      "Number of Gaussian: 1\n"
     ]
    },
    {
     "ename": "AttributeError",
     "evalue": "'dict' object has no attribute 'get_context'",
     "output_type": "error",
     "traceback": [
      "\u001b[0;31m---------------------------------------------------------------------------\u001b[0m",
      "\u001b[0;31mAttributeError\u001b[0m                            Traceback (most recent call last)",
      "\u001b[1;32m/Users/lukas.z/Desktop/Research/dive/dive/Testing_install.ipynb Cell 5\u001b[0m in \u001b[0;36m<cell line: 3>\u001b[0;34m()\u001b[0m\n\u001b[1;32m      <a href='vscode-notebook-cell:/Users/lukas.z/Desktop/Research/dive/dive/Testing_install.ipynb#ch0000004?line=0'>1</a>\u001b[0m Model \u001b[39m=\u001b[39m dive\u001b[39m.\u001b[39mmodel(t1, V1, pars)\n\u001b[0;32m----> <a href='vscode-notebook-cell:/Users/lukas.z/Desktop/Research/dive/dive/Testing_install.ipynb#ch0000004?line=2'>3</a>\u001b[0m Model \u001b[39m=\u001b[39m Model\u001b[39m.\u001b[39;49mget_context()\n",
      "\u001b[0;31mAttributeError\u001b[0m: 'dict' object has no attribute 'get_context'"
     ]
    }
   ],
   "source": [
    "Model = dive.model(t1, V1, pars)\n",
    "\n",
    "Model = Model.get_context()\n",
    "\n",
    "\n"
   ]
  },
  {
   "cell_type": "code",
   "execution_count": 11,
   "metadata": {},
   "outputs": [
    {
     "data": {
      "text/plain": [
       "dict"
      ]
     },
     "execution_count": 11,
     "metadata": {},
     "output_type": "execute_result"
    }
   ],
   "source": [
    "type(Model)"
   ]
  },
  {
   "cell_type": "code",
   "execution_count": 17,
   "metadata": {},
   "outputs": [
    {
     "data": {
      "text/latex": [
       "$$\n",
       "                \\begin{array}{rcl}\n",
       "                \\text{r0_rel_logodds__} &\\sim & \\text{TransformedDistribution}\\\\\\text{w_interval__} &\\sim & \\text{TransformedDistribution}\\\\\\text{tau} &\\sim & \\text{Normal}\\\\\\text{lamb_logodds__} &\\sim & \\text{TransformedDistribution}\\\\\\text{k_log__} &\\sim & \\text{TransformedDistribution}\\\\\\text{V0_lowerbound__} &\\sim & \\text{TransformedDistribution}\\\\\\text{sigma_log__} &\\sim & \\text{TransformedDistribution}\\\\\\text{r0_rel} &\\sim & \\text{Beta}\\\\\\text{r0} &\\sim & \\text{Deterministic}\\\\\\text{w} &\\sim & \\text{Bound}$ -- \\text{InverseGamma}\\\\\\text{P} &\\sim & \\text{Deterministic}\\\\\\text{lamb} &\\sim & \\text{Beta}\\\\\\text{k} &\\sim & \\text{Gamma}\\\\\\text{V0} &\\sim & \\text{Bound}$ -- \\text{Normal}\\\\\\text{sigma} &\\sim & \\text{Gamma}\\\\\\text{V} &\\sim & \\text{Normal}\n",
       "                \\end{array}\n",
       "                $$"
      ],
      "text/plain": [
       "<pymc3.model.Model at 0x7fe50c1eb730>"
      ]
     },
     "execution_count": 17,
     "metadata": {},
     "output_type": "execute_result"
    }
   ],
   "source": [
    "with Model['model']"
   ]
  },
  {
   "cell_type": "code",
   "execution_count": 35,
   "metadata": {},
   "outputs": [
    {
     "data": {
      "text/plain": [
       "[]"
      ]
     },
     "execution_count": 35,
     "metadata": {},
     "output_type": "execute_result"
    }
   ],
   "source": [
    "keys"
   ]
  },
  {
   "cell_type": "code",
   "execution_count": 9,
   "metadata": {},
   "outputs": [
    {
     "data": {
      "text/plain": [
       "{}"
      ]
     },
     "execution_count": 9,
     "metadata": {},
     "output_type": "execute_result"
    }
   ],
   "source": [
    "tis"
   ]
  },
  {
   "cell_type": "code",
   "execution_count": null,
   "metadata": {},
   "outputs": [],
   "source": []
  }
 ],
 "metadata": {
  "kernelspec": {
   "display_name": "Python 3.10.4 ('pymc_old')",
   "language": "python",
   "name": "python3"
  },
  "language_info": {
   "codemirror_mode": {
    "name": "ipython",
    "version": 3
   },
   "file_extension": ".py",
   "mimetype": "text/x-python",
   "name": "python",
   "nbconvert_exporter": "python",
   "pygments_lexer": "ipython3",
   "version": "3.10.4"
  },
  "orig_nbformat": 4,
  "vscode": {
   "interpreter": {
    "hash": "50e3532226a3b36604eb4adc3d8303411553da69d03c5edb4b67944b585cad2f"
   }
  }
 },
 "nbformat": 4,
 "nbformat_minor": 2
}
